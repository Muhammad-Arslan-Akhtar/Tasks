{
 "cells": [
  {
   "cell_type": "markdown",
   "metadata": {},
   "source": [
    "### PIAIC61773"
   ]
  },
  {
   "cell_type": "markdown",
   "metadata": {},
   "source": [
    "# Write python program to check whether the number is positive or negative"
   ]
  },
  {
   "cell_type": "raw",
   "metadata": {},
   "source": [
    "1. Take the value of the integer and store in a variable.\n",
    "2. Use an if statement to determine the number is positive or negative.\n",
    "3. Exit."
   ]
  },
  {
   "cell_type": "code",
   "execution_count": 1,
   "metadata": {},
   "outputs": [
    {
     "name": "stdout",
     "output_type": "stream",
     "text": [
      "*****PROGRAM TO CHECK WHETHER THE NUMBER IS POSITIVE OR NEGATIVE*****\n",
      "_____________________________________________________________________\n",
      "\n",
      "Enter any integer number:5\n",
      "5  is positive integer\n",
      "______________________\n",
      "\n",
      "Do you want to continue (y/n):y\n",
      "\n",
      "Enter any integer number:-7\n",
      "-7  is negative integer\n",
      "_______________________\n",
      "\n",
      "Do you want to continue (y/n):y\n",
      "\n",
      "Enter any integer number:0\n",
      "0  is zero, which is neither postive nor negative\n",
      "_________________________________________________\n",
      "\n",
      "Do you want to continue (y/n):n\n",
      "\n",
      "Thank you and hope to see you again :)\n",
      "_____________________________________\n"
     ]
    }
   ],
   "source": [
    "print(str.upper(\"*****Program to check whether the number is positive or negative*****\"))\n",
    "print(\"_____________________________________________________________________\")\n",
    "choice = False\n",
    "while True:\n",
    "    num = int(input(\"\\nEnter any integer number:\"))\n",
    "    if(num>0):\n",
    "        print(num,\" is positive integer\")\n",
    "        print(\"______________________\\n\")\n",
    "    elif(num==0):\n",
    "        print(num,\" is zero, which is neither postive nor negative\")\n",
    "        print(\"_________________________________________________\\n\")\n",
    "    else:\n",
    "        print(num,\" is negative integer\")\n",
    "        print(\"_______________________\\n\")\n",
    "    opt=str(input(\"Do you want to continue (y/n):\"))\n",
    "    if(opt=='y' or opt=='Y'):\n",
    "        choice==True\n",
    "    if(opt == 'n' or opt =='N'):\n",
    "        print(\"\\nThank you and hope to see you again :)\")\n",
    "        print(\"_____________________________________\")\n",
    "        break\n",
    "exit()\n"
   ]
  },
  {
   "cell_type": "markdown",
   "metadata": {},
   "source": [
    "# Write python program to take the marks of 5 subjects and display the grade"
   ]
  },
  {
   "cell_type": "raw",
   "metadata": {},
   "source": [
    "1. Take in the marks of 5 subjects from the user and store it in different variables.\n",
    "2. Find the average of the marks.\n",
    "3. Use an else condition to decide the grade based on the average of marks.\n",
    "4. Exit."
   ]
  },
  {
   "cell_type": "code",
   "execution_count": 2,
   "metadata": {},
   "outputs": [
    {
     "name": "stdout",
     "output_type": "stream",
     "text": [
      "***STUDENT GRADING SYSTEM***\n",
      "____________________________\n",
      "Enter Marks Of Physics: 90\n",
      "Enter Marks Of English: 89\n",
      "Enter Marks Of Mathematics: 98\n",
      "Enter Marks Of Computer: 87\n",
      "Enter Marks Of Chemistry: 90\n",
      "\n",
      "Your average is :  90.8\n",
      "Congratulations, Your Grade is  A+ \n",
      "\n",
      "\n",
      "____________________________________\n",
      "Do you want to continue (y/n):y\n",
      "_______________________________\n",
      "\n",
      "\n",
      "\n",
      "***STUDENT GRADING SYSTEM***\n",
      "____________________________\n",
      "Enter Marks Of Physics: 65\n",
      "Enter Marks Of English: 45\n",
      "Enter Marks Of Mathematics: 34\n",
      "Enter Marks Of Computer: 65\n",
      "Enter Marks Of Chemistry: 34\n",
      "\n",
      "Your average is :  48.6\n",
      "Better luck next time. Your grade is:  F \n",
      "\n",
      "\n",
      "________________________________________\n",
      "Do you want to continue (y/n):n\n",
      "_______________________________\n",
      "\n",
      "\n",
      "\n",
      "\n",
      "Thank you and hope to see you again :)\n",
      "_____________________________________\n"
     ]
    }
   ],
   "source": [
    "choice = False\n",
    "while True:\n",
    "    print(str.upper(\"***student grading system***\"))\n",
    "    print(\"____________________________\")\n",
    "    physics = float(input(\"Enter Marks Of Physics: \"))\n",
    "    english = float(input(\"Enter Marks Of English: \"))\n",
    "    math = float(input(\"Enter Marks Of Mathematics: \"))\n",
    "    computer = float(input(\"Enter Marks Of Computer: \"))\n",
    "    chemistry = float(input(\"Enter Marks Of Chemistry: \"))\n",
    "    average = float((physics + english + math + computer + chemistry)/5)\n",
    "    print(\"\\nYour average is : \",average)\n",
    "\n",
    "    if(average >= 90):\n",
    "        grade = 'A+'\n",
    "    elif(average >= 85 and average < 90):\n",
    "        grade = 'A'\n",
    "    elif(average >= 80 and average < 85):\n",
    "        grade = 'A-'\n",
    "    elif(average >= 77 and average < 80):\n",
    "        grade = 'B+'\n",
    "    elif(average >= 73 and average < 77):\n",
    "        grade = 'B'\n",
    "    elif(average >= 70 and average < 73):\n",
    "        grade = 'B-'    \n",
    "    elif(average >= 65 and average < 70):\n",
    "        grade = 'C+'\n",
    "    elif(average >= 60 and average < 65):\n",
    "        grade = 'C'\n",
    "    elif(average >= 55 and average < 60):\n",
    "        grade = 'C-'\n",
    "    elif(average >= 50 and average < 55):\n",
    "        grade = 'D'\n",
    "    elif(average < 50):\n",
    "        grade = 'F'\n",
    "\n",
    "    if(average >= 50):\n",
    "        print(\"Congratulations, Your Grade is \",grade,\"\\n\\n\")\n",
    "        print(\"____________________________________\")\n",
    "    elif(average < 50):\n",
    "        print(\"Better luck next time. Your grade is: \",grade,\"\\n\\n\")\n",
    "        print(\"________________________________________\")\n",
    "        \n",
    "        \n",
    "    opt=str(input(\"Do you want to continue (y/n):\"))\n",
    "    print(\"_______________________________\")\n",
    "    print(\"\\n\\n\") \n",
    "    if(opt=='y' or opt=='Y'):\n",
    "        choice==True\n",
    "    if(opt == 'n' or opt =='N'):\n",
    "        print(\"\\nThank you and hope to see you again :)\")\n",
    "        print(\"_____________________________________\")\n",
    "        break    \n",
    "exit()\n"
   ]
  },
  {
   "cell_type": "markdown",
   "metadata": {},
   "source": [
    "# Write python program to read 2 numbers and print their Quotient and Remainder"
   ]
  },
  {
   "cell_type": "raw",
   "metadata": {},
   "source": [
    "1. Take in the first and second number and store it in separate variables.\n",
    "2. Then obtain the quotient using division and the remainder using using modulus operator.\n",
    "3. Exit."
   ]
  },
  {
   "cell_type": "code",
   "execution_count": 1,
   "metadata": {},
   "outputs": [
    {
     "name": "stdout",
     "output_type": "stream",
     "text": [
      "***QUOTIENT AND REAMAINDER***\n",
      "___________________________\n",
      "Enter First Number: 3\n",
      "Enter Second Number: 4\n",
      "The Quotient is :  0.75\n",
      "The Remainder is:  3.0\n",
      "\n",
      "_______________________________\n",
      "Do you want to continue(y/n): y\n",
      "\n",
      "_______________________________\n",
      "***QUOTIENT AND REAMAINDER***\n",
      "___________________________\n",
      "Enter First Number: 4\n",
      "Enter Second Number: 2\n",
      "The Quotient is :  2.0\n",
      "The Remainder is:  0.0\n",
      "\n",
      "_______________________________\n",
      "Do you want to continue(y/n): n\n",
      "\n",
      "_______________________________\n",
      "Thank you and hope to see you again :)\n",
      "______________________________________\n"
     ]
    }
   ],
   "source": [
    "choice = False\n",
    "while True:\n",
    "    print(str.upper(\"***quotient and reamainder***\"))\n",
    "    print(\"___________________________\")\n",
    "    num1 = float(input(\"Enter First Number: \"))\n",
    "    num2 = float(input(\"Enter Second Number: \"))\n",
    "    quotient = num1/num2\n",
    "    print(\"The Quotient is : \",quotient)\n",
    "    remainder = num1%num2\n",
    "    print(\"The Remainder is: \",remainder)\n",
    "    print(\"\\n_______________________________\")\n",
    "    opt = str(input(\"Do you want to continue(y/n): \"))\n",
    "    print(\"\\n_______________________________\")\n",
    "    if(opt=='y' or opt=='Y'):\n",
    "        choice==True\n",
    "    elif(opt=='n' or opt=='N'):\n",
    "        print(\"Thank you and hope to see you again :)\")\n",
    "        print(\"______________________________________\")\n",
    "        break\n",
    "exit()\n"
   ]
  },
  {
   "cell_type": "markdown",
   "metadata": {},
   "source": [
    "# Write python program to print all integers that are not divisible by either 2 or 3 and lie between 1 and 50."
   ]
  },
  {
   "cell_type": "raw",
   "metadata": {},
   "source": [
    "1. Use a for-loop ranging from 0 to 51\n",
    "2. Then use an if statement to check if the number isn't divisible by both 2 and 3.\n",
    "3. Print the numbers satisfying the condition.\n",
    "4. Exit."
   ]
  },
  {
   "cell_type": "code",
   "execution_count": 1,
   "metadata": {},
   "outputs": [
    {
     "name": "stdout",
     "output_type": "stream",
     "text": [
      "Numbers\n",
      "_______\n",
      "0\n",
      "1\n",
      "2\n",
      "3\n",
      "4\n",
      "5\n",
      "6\n",
      "7\n",
      "8\n",
      "9\n",
      "10\n",
      "11\n",
      "12\n",
      "13\n",
      "14\n",
      "15\n",
      "16\n",
      "17\n",
      "18\n",
      "19\n",
      "20\n",
      "21\n",
      "22\n",
      "23\n",
      "24\n",
      "25\n",
      "26\n",
      "27\n",
      "28\n",
      "29\n",
      "30\n",
      "31\n",
      "32\n",
      "33\n",
      "34\n",
      "35\n",
      "36\n",
      "37\n",
      "38\n",
      "39\n",
      "40\n",
      "41\n",
      "42\n",
      "43\n",
      "44\n",
      "45\n",
      "46\n",
      "47\n",
      "48\n",
      "49\n",
      "50\n",
      "____________________________________\n",
      "Numbers which are not divisible by 2\n",
      "____________________________________\n",
      "1 is not divisible by 2\n",
      "3 is not divisible by 2\n",
      "5 is not divisible by 2\n",
      "7 is not divisible by 2\n",
      "9 is not divisible by 2\n",
      "11 is not divisible by 2\n",
      "13 is not divisible by 2\n",
      "15 is not divisible by 2\n",
      "17 is not divisible by 2\n",
      "19 is not divisible by 2\n",
      "21 is not divisible by 2\n",
      "23 is not divisible by 2\n",
      "25 is not divisible by 2\n",
      "27 is not divisible by 2\n",
      "29 is not divisible by 2\n",
      "31 is not divisible by 2\n",
      "33 is not divisible by 2\n",
      "35 is not divisible by 2\n",
      "37 is not divisible by 2\n",
      "39 is not divisible by 2\n",
      "41 is not divisible by 2\n",
      "43 is not divisible by 2\n",
      "45 is not divisible by 2\n",
      "47 is not divisible by 2\n",
      "49 is not divisible by 2\n",
      "____________________________________\n",
      "Numbers which are not divisible by 3\n",
      "____________________________________\n",
      "1 is not divisible by 3\n",
      "2 is not divisible by 3\n",
      "4 is not divisible by 3\n",
      "5 is not divisible by 3\n",
      "7 is not divisible by 3\n",
      "8 is not divisible by 3\n",
      "10 is not divisible by 3\n",
      "11 is not divisible by 3\n",
      "13 is not divisible by 3\n",
      "14 is not divisible by 3\n",
      "16 is not divisible by 3\n",
      "17 is not divisible by 3\n",
      "19 is not divisible by 3\n",
      "20 is not divisible by 3\n",
      "22 is not divisible by 3\n",
      "23 is not divisible by 3\n",
      "25 is not divisible by 3\n",
      "26 is not divisible by 3\n",
      "28 is not divisible by 3\n",
      "29 is not divisible by 3\n",
      "31 is not divisible by 3\n",
      "32 is not divisible by 3\n",
      "34 is not divisible by 3\n",
      "35 is not divisible by 3\n",
      "37 is not divisible by 3\n",
      "38 is not divisible by 3\n",
      "40 is not divisible by 3\n",
      "41 is not divisible by 3\n",
      "43 is not divisible by 3\n",
      "44 is not divisible by 3\n",
      "46 is not divisible by 3\n",
      "47 is not divisible by 3\n",
      "49 is not divisible by 3\n",
      "50 is not divisible by 3\n",
      "____________________________________\n"
     ]
    }
   ],
   "source": [
    "print(\"Numbers\\n_______\")\n",
    "for num in range(0,51):\n",
    "    print(num)\n",
    "print(\"____________________________________\")\n",
    "print(\"Numbers which are not divisible by 2\\n____________________________________\")\n",
    "for x in range(0,51):\n",
    "    if(x%2!=0):\n",
    "        print(x, \"is not divisible by 2\")\n",
    "print(\"____________________________________\")\n",
    "print(\"Numbers which are not divisible by 3\\n____________________________________\")\n",
    "for y in range(0,51):    \n",
    "    if(y%3!=0):\n",
    "        print(y, \"is not divisible by 3\")\n",
    "print(\"____________________________________\")\n",
    "\n",
    "exit()\n",
    "    \n",
    "\n",
    "        "
   ]
  },
  {
   "cell_type": "markdown",
   "metadata": {},
   "source": [
    "## Write a python program to Exchange the values of two numbers without using a temporary variable"
   ]
  },
  {
   "cell_type": "raw",
   "metadata": {},
   "source": [
    "Problem Solution\n",
    "1. Take the values of both the elements from the user.\n",
    "2. Store the values in seperate variables.\n",
    "3. Add both the variables and store it in the first variable.\n",
    "4. Subtract the second variable from the first and store it in the second variable.\n",
    "5. Then, subtract the first variable from the second variable and store it in the first variable.\n",
    "6. Print the swapped values.\n",
    "7. Exit."
   ]
  },
  {
   "cell_type": "raw",
   "metadata": {},
   "source": [
    "Method 1:"
   ]
  },
  {
   "cell_type": "code",
   "execution_count": 1,
   "metadata": {},
   "outputs": [
    {
     "name": "stdout",
     "output_type": "stream",
     "text": [
      "Enter First Value: 3\n",
      "Enter Second Value: 4\n",
      "\n",
      "value 1 before swapping is: 3.0\n",
      "value 2 before swapping is: 4.0\n",
      "\n",
      "value 1 after swapping is: 4.0\n",
      "value 2 after swapping is: 3.0\n"
     ]
    }
   ],
   "source": [
    "num1 = float(input(\"Enter First Value: \"))\n",
    "num2 = float(input(\"Enter Second Value: \"))\n",
    "\n",
    "print(\"\\nvalue 1 before swapping is: \"+str(num1))\n",
    "print(\"value 2 before swapping is: \"+str(num2))\n",
    "\n",
    "\n",
    "# 1      1      2\n",
    "num1 = num1 + num2\n",
    "# 3\n",
    "\n",
    "# 2     3       2\n",
    "num2 = num1 - num2\n",
    "# 1\n",
    "\n",
    "# 3     3      1\n",
    "num1 = num1 - num2\n",
    "\n",
    "print(\"\\nvalue 1 after swapping is: \"+str(num1))\n",
    "print(\"value 2 after swapping is: \"+str(num2))\n",
    "exit()"
   ]
  },
  {
   "cell_type": "raw",
   "metadata": {},
   "source": [
    "Mthod 2:"
   ]
  },
  {
   "cell_type": "code",
   "execution_count": 1,
   "metadata": {},
   "outputs": [
    {
     "name": "stdout",
     "output_type": "stream",
     "text": [
      "Enter First Value: 5\n",
      "Enter Second Value: 4\n",
      "\n",
      "value 1 before swapping is: 5.0\n",
      "value 2 before swapping is: 4.0\n",
      "\n",
      "value 1 after swapping is: 4.0\n",
      "value 2 after swapping is: 5.0\n"
     ]
    }
   ],
   "source": [
    "num1 = float(input(\"Enter First Value: \"))\n",
    "num2 = float(input(\"Enter Second Value: \"))\n",
    "\n",
    "print(\"\\nvalue 1 before swapping is: \"+str(num1))\n",
    "print(\"value 2 before swapping is: \"+str(num2))\n",
    "\n",
    "\n",
    "\n",
    "num1 = num1 * num2\n",
    "num2 = num1 / num2\n",
    "num1 = num1 / num2\n",
    "\n",
    "print(\"\\nvalue 1 after swapping is: \"+str(num1))\n",
    "print(\"value 2 after swapping is: \"+str(num2))\n",
    "exit()"
   ]
  },
  {
   "cell_type": "markdown",
   "metadata": {},
   "source": [
    "### Method 3:"
   ]
  },
  {
   "cell_type": "code",
   "execution_count": 1,
   "metadata": {},
   "outputs": [
    {
     "name": "stdout",
     "output_type": "stream",
     "text": [
      "Enter First Value: 6\n",
      "Enter Second Value: 4\n",
      "\n",
      "value 1 before swapping is:  6.0\n",
      "value 2 before swapping is:  4.0\n",
      "\n",
      "value 1 after swapping is:  4.0\n",
      "value 2 after swapping is:  6.0\n"
     ]
    }
   ],
   "source": [
    "num1 = float(input(\"Enter First Value: \"))\n",
    "num2 = float(input(\"Enter Second Value: \"))\n",
    "\n",
    "print(\"\\nvalue 1 before swapping is: \",num1)\n",
    "print(\"value 2 before swapping is: \",num2)\n",
    "\n",
    "num1, num2 = num2, num1\n",
    "\n",
    "print(\"\\nvalue 1 after swapping is: \",num1)\n",
    "print(\"value 2 after swapping is: \",num2)\n",
    "exit()"
   ]
  },
  {
   "cell_type": "markdown",
   "metadata": {},
   "source": [
    "## Write a python program to find Area of a Triangle Given All 3 Sides"
   ]
  },
  {
   "cell_type": "raw",
   "metadata": {},
   "source": [
    "Problem Solution\n",
    "1. Take all the three sides of the triangle and store it in three seperate variables.\n",
    "2. Then using the Heron's formula, compute the area of triangle.\n",
    "3. Print the area of triangle.\n",
    "4. Exit."
   ]
  },
  {
   "cell_type": "raw",
   "metadata": {},
   "source": [
    "By Heron's Formula:"
   ]
  },
  {
   "cell_type": "code",
   "execution_count": 1,
   "metadata": {},
   "outputs": [
    {
     "name": "stdout",
     "output_type": "stream",
     "text": [
      "***AREA OF A TRIANGLE***\n",
      "_______________________\n",
      "Enter Base of triangle: 6\n",
      "Enter Hypotenuse of traingle: 5\n",
      "Enter Height of traingle: 6\n",
      "\n",
      "Area of a triangle is:  13.635890143294644\n",
      "Do you want to continue (y/n):n\n",
      "_________________________________________\n",
      "\n",
      "Thank you and hope to see you again :)\n",
      "_____________________________________\n"
     ]
    }
   ],
   "source": [
    "print(str.upper(\"***area of a triangle***\"))\n",
    "print(\"_______________________\")\n",
    "choice = False\n",
    "while True:\n",
    "    base = float(input(\"Enter Base of triangle: \"))\n",
    "    hypotenuse = float(input(\"Enter Hypotenuse of traingle: \"))\n",
    "    height = float(input(\"Enter Height of traingle: \"))\n",
    "\n",
    "    s = (base+hypotenuse+height)/2\n",
    "    area = (s*(s-base)*(s-hypotenuse)*(s-height))**(1/2)\n",
    "\n",
    "    print(\"\\nArea of a triangle is: \",area)\n",
    "    opt = str(input(\"Do you want to continue (y/n):\" ))\n",
    "    print(\"_________________________________________\")\n",
    "    if(opt=='y' or opt=='Y'):\n",
    "        choice==True\n",
    "    elif(opt=='n' or opt=='N'):\n",
    "        print(\"\\nThank you and hope to see you again :)\")\n",
    "        print(\"_____________________________________\")\n",
    "        break\n",
    "exit()"
   ]
  },
  {
   "cell_type": "markdown",
   "metadata": {},
   "source": [
    "## Write python program to print largest even and largest odd number in a list"
   ]
  },
  {
   "cell_type": "raw",
   "metadata": {},
   "source": [
    "1. Take the number of elements to be in the list from the user.\n",
    "2. Take in the elements from the user using a for loop and append to a list.\n",
    "3. Using a for loop, get the elements one by one from the list and check if it odd or even and append them to different lists.\n",
    "4. Sort both the lists individually and get the length of each list.\n",
    "5. print the last elements of the sorted lists.\n",
    "6. Exit."
   ]
  },
  {
   "cell_type": "code",
   "execution_count": 1,
   "metadata": {},
   "outputs": [
    {
     "name": "stdout",
     "output_type": "stream",
     "text": [
      "Enter the number of elements to be in the list:3\n",
      "Element: 1\n",
      "Element: 2\n",
      "Element: 3\n",
      "Largest even number: 2\n",
      "Largest odd number 3\n"
     ]
    }
   ],
   "source": [
    "n=int(input(\"Enter the number of elements to be in the list:\"))\n",
    "b=[]\n",
    "for i in range(0,n):\n",
    "    a=int(input(\"Element: \"))\n",
    "    b.append(a)\n",
    "c=[]\n",
    "d=[]\n",
    "for i in b:\n",
    "    if(i%2==0):\n",
    "        c.append(i)\n",
    "    else:\n",
    "        d.append(i)\n",
    "c.sort()\n",
    "d.sort()\n",
    "count1=0\n",
    "count2=0\n",
    "for k in c:\n",
    "    count1=count1+1\n",
    "for j in d:\n",
    "    count2=count2+1\n",
    "print(\"Largest even number:\",c[count1-1])\n",
    "print(\"Largest odd number\",d[count2-1])\n",
    "exit()"
   ]
  },
  {
   "cell_type": "markdown",
   "metadata": {},
   "source": [
    "## Write python program to find the second largest number in a list"
   ]
  },
  {
   "cell_type": "raw",
   "metadata": {},
   "source": [
    "1. Take in the number of elements and store it in a variable.\n",
    "2. Take in the element of the list one by one.\n",
    "3. Sort the list in ascending order.\n",
    "4. Print the second last element of the list.\n",
    "5. Exit."
   ]
  },
  {
   "cell_type": "code",
   "execution_count": 1,
   "metadata": {},
   "outputs": [
    {
     "name": "stdout",
     "output_type": "stream",
     "text": [
      "Enter number of elements in list: 5\n",
      "Enter elements: 2\n",
      "Enter elements: 3\n",
      "Enter elements: 1\n",
      "Enter elements: 5\n",
      "Enter elements: 4\n",
      "Second largest element is: 4\n"
     ]
    }
   ],
   "source": [
    "list1 = [] \n",
    "num = int(input(\"Enter number of elements in list: \")) \n",
    " \n",
    "for i in range(1, num + 1): \n",
    "    ele = int(input(\"Enter elements: \")) \n",
    "    list1.append(ele) \n",
    "    \n",
    "list1.sort() \n",
    "print(\"Second largest element is:\", list1[-2]) \n",
    "exit()"
   ]
  },
  {
   "cell_type": "markdown",
   "metadata": {},
   "source": [
    "## Write python program to find the union of two lists"
   ]
  },
  {
   "cell_type": "raw",
   "metadata": {},
   "source": [
    "1. Define a function which accepts two lists and returns the union of them.\n",
    "2. Declare two empty lists and initialise to an empty list.\n",
    "3. Consider a for loop to accept values for two lists.\n",
    "4. Take the number of elements in the list and store it in a variable.\n",
    "5. Accept the values into the list using another for loop and insert into the list.\n",
    "6. Repeat 4 and 5 for the second list also.\n",
    "7. Find the union of the two lists.\n",
    "8. Pint the union.\n",
    "9. Exit."
   ]
  },
  {
   "cell_type": "code",
   "execution_count": 1,
   "metadata": {},
   "outputs": [
    {
     "name": "stdout",
     "output_type": "stream",
     "text": [
      "Enter number of elements in list 1: 4\n",
      "Enter number of elements in list 2: 2\n",
      "Enter element of list 1: 1\n",
      "Enter element of list 1: 2\n",
      "Enter element of list 1: 3\n",
      "Enter element of list 1: 4\n",
      "Enter element if list 2: 2\n",
      "Enter element if list 2: 1\n",
      "[1, 2, 3, 4, 2, 1]\n"
     ]
    }
   ],
   "source": [
    "def Union(list1, list2): \n",
    "    final_list = list1 + list2 \n",
    "    return final_list \n",
    "\n",
    "list1 = [] \n",
    "list2 = []\n",
    "num1 = int(input(\"Enter number of elements in list 1: \"))\n",
    "num2 = int(input(\"Enter number of elements in list 2: \"))\n",
    " \n",
    "for i in range(1, num1 + 1): \n",
    "    ele = int(input(\"Enter element of list 1: \")) \n",
    "    list1.append(ele)\n",
    "for j in range(1, num2 + 1): \n",
    "    ele = int(input(\"Enter element if list 2: \")) \n",
    "    list2.append(ele) \n",
    "print(Union(list1, list2))\n",
    "exit()"
   ]
  },
  {
   "cell_type": "code",
   "execution_count": null,
   "metadata": {},
   "outputs": [],
   "source": [
    "# Maintained repetition  \n",
    "def Union(list1, list2): \n",
    "    final_list = list1 + list2 \n",
    "    return final_list \n",
    " \n",
    "list1 = [3, 6, 2, 54, 17, 16, 26 ,72] \n",
    "list2 = [52, 78, 75, 12, 26, 32, 77, 74] \n",
    "print(Union(list1, list2))"
   ]
  },
  {
   "cell_type": "code",
   "execution_count": null,
   "metadata": {},
   "outputs": [],
   "source": [
    "# Maintained repetition and order  \n",
    "def Union(list1, list2): \n",
    "    final_list = sorted(list1 + list2) \n",
    "    return final_list \n",
    "  \n",
    "\n",
    "list1 = [23, 15, 2, 14, 14, 16, 20 ,52] \n",
    "list2 = [2, 48, 15, 12, 26, 32, 47, 54] \n",
    "print(Union(list1, list2))"
   ]
  },
  {
   "cell_type": "code",
   "execution_count": null,
   "metadata": {},
   "outputs": [],
   "source": [
    "# Without repetition  \n",
    "def Union(list1, list2): \n",
    "    final_list = list(set(list1) | set(list2)) \n",
    "    return final_list \n",
    "  \n",
    "\n",
    "list1 = [23, 15, 2, 14, 14, 16, 20 ,52] \n",
    "list2 = [2, 48, 15, 12, 26, 32, 47, 54] \n",
    "print(Union(list1, list2))"
   ]
  }
 ],
 "metadata": {
  "kernelspec": {
   "display_name": "Python 3",
   "language": "python",
   "name": "python3"
  },
  "language_info": {
   "codemirror_mode": {
    "name": "ipython",
    "version": 3
   },
   "file_extension": ".py",
   "mimetype": "text/x-python",
   "name": "python",
   "nbconvert_exporter": "python",
   "pygments_lexer": "ipython3",
   "version": "3.7.3"
  }
 },
 "nbformat": 4,
 "nbformat_minor": 2
}
